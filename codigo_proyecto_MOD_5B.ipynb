{
  "cells": [
    {
      "cell_type": "markdown",
      "metadata": {
        "id": "h6l53-LbPuFY"
      },
      "source": [
        "# Introducción del proyecto"
      ]
    },
    {
      "cell_type": "markdown",
      "metadata": {
        "id": "yK3_Mq8440pR"
      },
      "source": [
        "El código proporcionado muestra una implementación de nuestro proyecto de clasificación de imágenes de orejas. En este proyecto, utilizamos características LBP (Local Binary Patterns) junto con un clasificador k-NN (K-Nearest Neighbors) para realizar la clasificación de las imágenes. Además, se lleva a cabo un análisis comparativo entre dos enfoques diferentes: uno que utiliza la distancia de Chi-Square y características LBP, y otro que emplea la distancia euclidiana y la técnica de extracción de características PCA (Principal Component Analysis). Este análisis comparativo nos permite evaluar y comparar el desempeño de ambos enfoques en términos de su tasa de error igual (EER) y el umbral de EER.\n",
        "\n",
        "A continuación se presentan comentarios explicativos para cada sección del código:"
      ]
    },
    {
      "cell_type": "markdown",
      "metadata": {
        "id": "VnS4FHwzNxPA"
      },
      "source": [
        "# Paso 1: Importación de Librerías"
      ]
    },
    {
      "cell_type": "markdown",
      "metadata": {
        "id": "sqDsxuU5F5Dg"
      },
      "source": [
        "En esta sección, se importan las bibliotecas necesarias para el procesamiento de imágenes y el aprendizaje automático. Se importan varias bibliotecas, como os para operaciones del sistema operativo, cv2 para el procesamiento de imágenes, numpy para cálculos numéricos, seaborn y matplotlib para la visualización de datos, PIL para el manejo de imágenes, skimage para la extracción de características, y otras bibliotecas relacionadas con el aprendizaje automático y la visualización en Google Colab."
      ]
    },
    {
      "cell_type": "code",
      "execution_count": null,
      "metadata": {
        "id": "z5mBG_e_-T9z"
      },
      "outputs": [],
      "source": [
        "# Importar las librerías necesarias\n",
        "\n",
        "import os # Para operaciones del sistema operativo\n",
        "import cv2 # Para el procesamiento de imágenes\n",
        "import numpy as np # Para cálculos numéricos\n",
        "import seaborn as sns # Para visualización de datos\n",
        "import random # Para generar números aleatorios\n",
        "import matplotlib.pyplot as plt # Para visualización de datos\n",
        "\n",
        "from PIL import Image # Para el manejo de imágenes\n",
        "from skimage.feature import local_binary_pattern # Para características LBP\n",
        "from skimage import color # Para el manejo de colores\n",
        "from sklearn.model_selection import train_test_split # Para dividir el conjunto de datos en entrenamiento y prueba\n",
        "from sklearn.neighbors import KNeighborsClassifier # Para el clasificador k-NN\n",
        "from sklearn.metrics import accuracy_score, confusion_matrix, classification_report # Para evaluar el modelo\n",
        "from google.colab.patches import cv2_imshow # Para mostrar imágenes en Google Colab\n",
        "from sklearn.model_selection import cross_val_score # Para validación cruzada"
      ]
    },
    {
      "cell_type": "markdown",
      "metadata": {
        "id": "ne7ob-P_15Bo"
      },
      "source": [
        "# Paso 2: Definición de función de carga y de visualización del conjunto de datos de imágenes de orejas."
      ]
    },
    {
      "cell_type": "markdown",
      "metadata": {
        "id": "nVwE2vmp_En6"
      },
      "source": [
        "En esta sección se definen las funciones para cargar y visualizar el conjunto de datos de imágenes de orejas. La función load_dataset carga las imágenes y las etiquetas del conjunto de datos. La función display_images muestra las imágenes en forma de cuadrícula. La función show_image_examples muestra ejemplos aleatorios de imágenes del conjunto de datos."
      ]
    },
    {
      "cell_type": "code",
      "execution_count": null,
      "metadata": {
        "id": "IQfGjH806CmQ"
      },
      "outputs": [],
      "source": [
        "def load_dataset(dataset_path):\n",
        "    left_ear_images = []  # Lista para almacenar las imágenes de las orejas izquierdas\n",
        "    right_ear_images = []  # Lista para almacenar las imágenes de las orejas derechas\n",
        "    left_ear_labels = []  # Lista para almacenar las etiquetas de las orejas izquierdas\n",
        "    right_ear_labels = []  # Lista para almacenar las etiquetas de las orejas derechas\n",
        "\n",
        "    for label, folder_name in enumerate(os.listdir(dataset_path)):\n",
        "        folder_path = os.path.join(dataset_path, folder_name)  # Ruta completa de la carpeta\n",
        "        if os.path.isdir(folder_path):\n",
        "            # Verifica si el nombre de la carpeta termina con 'l' (izquierda) o 'r' (derecha)\n",
        "            if folder_name.endswith('l'):\n",
        "                ear_images = left_ear_images\n",
        "                ear_labels = left_ear_labels\n",
        "            elif folder_name.endswith('r'):\n",
        "                ear_images = right_ear_images\n",
        "                ear_labels = right_ear_labels\n",
        "            else:\n",
        "                continue  # Ignora otras carpetas\n",
        "\n",
        "            # Itera sobre los archivos dentro de la carpeta\n",
        "            for filename in os.listdir(folder_path):\n",
        "                image_path = os.path.join(folder_path, filename)  # Ruta completa de la imagen\n",
        "                image = Image.open(image_path)  # Abrir la imagen utilizando PIL\n",
        "                image = np.array(image)  # Convertir la imagen en un arreglo numpy\n",
        "                ear_images.append(image)  # Agregar la imagen a la lista de imágenes del oído\n",
        "                ear_labels.append(label)  # Agregar la etiqueta a la lista de etiquetas del oído\n",
        "\n",
        "    # Convertir las listas en arreglos numpy y devolverlos\n",
        "    return (\n",
        "        np.asarray(left_ear_images, dtype=object),\n",
        "        np.asarray(left_ear_labels),\n",
        "        np.asarray(right_ear_images, dtype=object),\n",
        "        np.asarray(right_ear_labels)\n",
        "    )"
      ]
    },
    {
      "cell_type": "code",
      "execution_count": null,
      "metadata": {
        "id": "YcoiFi_Q00qS"
      },
      "outputs": [],
      "source": [
        "# Función para mostrar ejemplos de imágenes\n",
        "def display_images(images, labels):\n",
        "    num_images = len(images)\n",
        "    rows = int(np.ceil(np.sqrt(num_images)))\n",
        "    cols = int(np.ceil(num_images / rows))\n",
        "\n",
        "    fig, axes = plt.subplots(rows, cols, figsize=(12, 12))\n",
        "\n",
        "    for i, ax in enumerate(axes.flat):\n",
        "        if i < num_images:\n",
        "            image = images[i]\n",
        "            label = labels[i]\n",
        "\n",
        "            # Manejo de imágenes normalizadas\n",
        "            if np.max(image) > 1.0:\n",
        "                image = image.astype(np.uint8)\n",
        "\n",
        "            # Manejo de imágenes en escala de grises o en blanco y negro\n",
        "            if len(image.shape) == 2:\n",
        "                ax.imshow(image, cmap='gray')\n",
        "            else:\n",
        "                ax.imshow(image)\n",
        "\n",
        "            height, width = image.shape[:2]  # Dimensiones de la imagen\n",
        "            ax.set_title(f\"Etiqueta: {label}\\nDimensiones: {width}x{height}\")\n",
        "        ax.axis(\"off\")\n",
        "\n",
        "    plt.tight_layout()\n",
        "    plt.show()\n"
      ]
    },
    {
      "cell_type": "code",
      "execution_count": null,
      "metadata": {
        "id": "u8Sub-gZ1WR0"
      },
      "outputs": [],
      "source": [
        "# Función para mostrar ejemplos de imágenes aleatorias del conjunto de datos\n",
        "def show_image_examples(images, labels, num_examples=5, seed=None):\n",
        "\n",
        "    # Verificar si se proporcionó una semilla y establecerla para la generación aleatoria\n",
        "    if seed is not None:\n",
        "        random.seed(seed)\n",
        "\n",
        "    # Generar índices aleatorios para seleccionar las imágenes y etiquetas correspondientes\n",
        "    random_indices = random.sample(range(len(images)), num_examples)\n",
        "    random_images = [images[i] for i in random_indices]\n",
        "    random_labels = [labels[i] for i in random_indices]\n",
        "\n",
        "    # Llamar a la función display_images para mostrar las imágenes seleccionadas con sus etiquetas\n",
        "    display_images(random_images, random_labels)"
      ]
    },
    {
      "cell_type": "markdown",
      "metadata": {
        "id": "7Vk26ho_eUgk"
      },
      "source": [
        "# Paso 3: Carga y visualización del conjunto de datos de imágenes de orejas"
      ]
    },
    {
      "cell_type": "markdown",
      "metadata": {
        "id": "l3WG41UKt1iL"
      },
      "source": [
        "En esta sección se especifica la ruta del conjunto de datos y se carga utilizando la función load_dataset. Las imágenes de las orejas izquierdas se almacenan en la variable left_ear_images y las etiquetas correspondientes se almacenan en la variable left_ear_labels. De manera similar, las imágenes de las orejas derechas se almacenan en la variable right_ear_images y las etiquetas correspondientes se almacenan en la variable right_ear_labels.\n",
        "\n",
        "A continuación, se muestran algunos ejemplos de imágenes originales"
      ]
    },
    {
      "cell_type": "code",
      "execution_count": null,
      "metadata": {
        "id": "R06WjH_G4Hs4"
      },
      "outputs": [],
      "source": [
        "# Especificar la carpeta del dataset\n",
        "dataset_path = \"/content/drive/MyDrive/projecto mod/code/BBDD_recortada\"\n",
        "\n",
        "# Cargar el dataset de imágenes de orejas\n",
        "left_ear_images, left_ear_labels, right_ear_images, right_ear_labels = load_dataset(dataset_path)"
      ]
    },
    {
      "cell_type": "code",
      "execution_count": null,
      "metadata": {
        "colab": {
          "base_uri": "https://localhost:8080/",
          "height": 1000
        },
        "id": "5nicHT5YK5HS",
        "outputId": "33b4219f-59a6-4443-ac48-7b03110d03ec"
      },
      "outputs": [],
      "source": [
        "# Mostrar ejemplos de imágenes de orejas izquierdas\n",
        "print(\"Ejemplos de imágenes de orejas izquierdas:\")\n",
        "show_image_examples(left_ear_images, left_ear_labels, num_examples=16, seed=1)"
      ]
    },
    {
      "cell_type": "code",
      "execution_count": null,
      "metadata": {
        "colab": {
          "base_uri": "https://localhost:8080/",
          "height": 1000
        },
        "id": "8cer1pY4_FdL",
        "outputId": "c8adf88a-93ec-4dba-a913-f896df27c221"
      },
      "outputs": [],
      "source": [
        "# Mostrar ejemplos de imágenes de orejas derechas\n",
        "print(\"Ejemplos de imágenes de orejas derechas:\")\n",
        "show_image_examples(right_ear_images, right_ear_labels, num_examples=16, seed=1)"
      ]
    },
    {
      "cell_type": "markdown",
      "metadata": {
        "id": "lIyowB2z2E97"
      },
      "source": [
        "# Paso 4: Preprocesamiento de las imágenes"
      ]
    },
    {
      "cell_type": "markdown",
      "metadata": {
        "id": "ceS38cQm3oXJ"
      },
      "source": [
        "En esta sección se realiza el preprocesamiento de las imágenes. Primero, se aplica el volteo de las imágenes de orejas izquierdas utilizando la función cv2.flip. A continuación, se combinan las imágenes volteadas de orejas izquierdas con las imágenes de orejas derechas en un único array utilizando la función np.concatenate.\n",
        "\n",
        "Luego, se convierten las imágenes combinadas a escala de grises utilizando la función cv2.cvtColor. Después, se normalizan las imágenes en escala de grises utilizando la función cv2.normalize. Por último, se realiza la reducción de dimensionalidad mediante la redimensión de las imágenes normalizadas a un tamaño específico utilizando la función cv2.resize.\n",
        "\n",
        "Cada paso del preprocesamiento se lleva a cabo de manera secuencial, aplicando la transformación correspondiente a las imágenes resultantes del paso anterior."
      ]
    },
    {
      "cell_type": "code",
      "execution_count": null,
      "metadata": {
        "id": "A7EV2uY8C8K0"
      },
      "outputs": [],
      "source": [
        "# Volteo de las imágenes de orejas izquierdas\n",
        "def flip_left_ears(images):\n",
        "    flipped_images = []  # Lista para almacenar las imágenes volteadas\n",
        "    for image in images:\n",
        "        # Aplica volteo horizontal solo a las imágenes de las orejas izquierdas\n",
        "        flipped_image = cv2.flip(image, 1)  # 1 indica volteo horizontal\n",
        "        flipped_images.append(flipped_image)\n",
        "    return flipped_images"
      ]
    },
    {
      "cell_type": "code",
      "execution_count": null,
      "metadata": {
        "id": "qYC49t6JDQew"
      },
      "outputs": [],
      "source": [
        "# Volteo de las imágenes de orejas izquierdas\n",
        "flipped_left_images = flip_left_ears(left_ear_images)"
      ]
    },
    {
      "cell_type": "code",
      "execution_count": null,
      "metadata": {
        "colab": {
          "base_uri": "https://localhost:8080/",
          "height": 887
        },
        "id": "f9Gs2VJ7Dr2U",
        "outputId": "6c2c6c89-3b09-45fc-e1b7-72e096dfe2b9"
      },
      "outputs": [],
      "source": [
        "# Mostrar comparación entre imágenes de orejas izquierdas originales y volteadas\n",
        "num_examples = min(len(left_ear_images), len(flipped_left_images), 2)  # Limitar a 6 ejemplos\n",
        "random_indices = random.sample(range(num_examples), num_examples)  # Generar índices aleatorios\n",
        "\n",
        "print(\"Comparación entre imágenes de orejas izquierdas originales y volteadas:\")\n",
        "random_indices.sort()  # Ordenar los índices en orden creciente\n",
        "\n",
        "for i in random_indices:\n",
        "    label = random.choice(left_ear_labels)  # Seleccionar una etiqueta al azar\n",
        "\n",
        "    # Encontrar un ejemplo con la etiqueta seleccionada\n",
        "    index = np.where(left_ear_labels == label)[0][0]\n",
        "    original_image = left_ear_images[index]\n",
        "    flipped_image = flipped_left_images[index]\n",
        "\n",
        "    print(f\"Ejemplo {i+1} (Etiqueta: {label}):\")\n",
        "    fig, axes = plt.subplots(1, 2, figsize=(8, 4))\n",
        "\n",
        "    # Mostrar la imagen de la oreja izquierda original\n",
        "    axes[0].imshow(original_image)\n",
        "    axes[0].set_title(\"Oreja izquierda original\")\n",
        "    axes[0].axis(\"off\")\n",
        "\n",
        "    # Mostrar la imagen de la oreja izquierda volteada\n",
        "    axes[1].imshow(flipped_image)\n",
        "    axes[1].set_title(\"Oreja izquierda volteada\")\n",
        "    axes[1].axis(\"off\")\n",
        "\n",
        "    plt.tight_layout()\n",
        "    plt.show()\n",
        "    print()\n"
      ]
    },
    {
      "cell_type": "code",
      "execution_count": null,
      "metadata": {
        "id": "9OdlgHBOLM4P"
      },
      "outputs": [],
      "source": [
        "# Combinar las imágenes de las orejas izquierdas volteadas y las orejas derechas\n",
        "combined_images = np.concatenate((flipped_left_images, right_ear_images), axis=0)\n",
        "\n",
        "# Combinar las etiquetas de las orejas izquierdas volteadas y las orejas derechas\n",
        "combined_labels = np.concatenate((left_ear_labels, right_ear_labels), axis=0)\n"
      ]
    },
    {
      "cell_type": "code",
      "execution_count": null,
      "metadata": {
        "id": "uXEqzVem1zEG"
      },
      "outputs": [],
      "source": [
        "# Escala de grises de las imágenes\n",
        "gray_images = np.asarray([cv2.cvtColor(image, cv2.COLOR_BGR2GRAY) for image in combined_images], dtype=object)\n"
      ]
    },
    {
      "cell_type": "code",
      "execution_count": null,
      "metadata": {
        "colab": {
          "base_uri": "https://localhost:8080/",
          "height": 1000
        },
        "id": "fH075F3xHQlA",
        "outputId": "c9551ff6-4761-4b3b-a192-2a97f90023ff"
      },
      "outputs": [],
      "source": [
        "# Mostrar algunos ejemplos de imágenes en escala de grises\n",
        "print(\"Ejemplos de imágenes en escala de grises:\")\n",
        "show_image_examples(gray_images, combined_labels, num_examples=16, seed=1)"
      ]
    },
    {
      "cell_type": "code",
      "execution_count": null,
      "metadata": {
        "id": "80vzYI682aDN"
      },
      "outputs": [],
      "source": [
        "# Normalización de las imágenes\n",
        "normalized_images = np.asarray([cv2.normalize(image, None, 0, 255, cv2.NORM_MINMAX) for image in gray_images], dtype=object)"
      ]
    },
    {
      "cell_type": "code",
      "execution_count": null,
      "metadata": {
        "colab": {
          "base_uri": "https://localhost:8080/",
          "height": 1000
        },
        "id": "9AHtO8BWT8_r",
        "outputId": "2c2648f9-079b-47dd-d05e-01817a763923"
      },
      "outputs": [],
      "source": [
        "# Mostrar ejemplos de imágenes normalizadas\n",
        "print(\"Ejemplos de imágenes normalizadas:\")\n",
        "show_image_examples(normalized_images, combined_labels, num_examples=16, seed=1)"
      ]
    },
    {
      "cell_type": "code",
      "execution_count": null,
      "metadata": {
        "id": "iEb5oalrNek0"
      },
      "outputs": [],
      "source": [
        "def resize_images(images, new_size):\n",
        "    # Lista para almacenar las imágenes redimensionadas\n",
        "    resized_images = []\n",
        "\n",
        "    # Iterar sobre cada imagen en la lista\n",
        "    for image in images:\n",
        "        # Obtener el alto y ancho de la imagen original\n",
        "        height, width = image.shape[:2]\n",
        "\n",
        "        # Calcular la relación de aspecto entre el nuevo tamaño y las dimensiones originales\n",
        "        ratio = min(new_size[0] / width, new_size[1] / height)\n",
        "\n",
        "        # Calcular las nuevas dimensiones proporcionales\n",
        "        new_width = int(width * ratio)\n",
        "        new_height = int(height * ratio)\n",
        "\n",
        "        # Redimensionar la imagen utilizando cv2.resize y la interpolación cv2.INTER_AREA\n",
        "        resized_image = cv2.resize(image, (new_width, new_height), interpolation=cv2.INTER_AREA)\n",
        "\n",
        "        # Agregar la imagen redimensionada a la lista\n",
        "        resized_images.append(resized_image)\n",
        "\n",
        "    # Devolver la lista de imágenes redimensionadas\n",
        "    return resized_images\n"
      ]
    },
    {
      "cell_type": "code",
      "execution_count": null,
      "metadata": {
        "id": "LxeaAKfd2cth"
      },
      "outputs": [],
      "source": [
        "# Redimensionar las imágenes a 80x45 píxeles\n",
        "resized_images = [cv2.resize(image, (45, 80)) for image in normalized_images]\n",
        "resized_images = np.asarray(resized_images)"
      ]
    },
    {
      "cell_type": "code",
      "execution_count": null,
      "metadata": {
        "colab": {
          "base_uri": "https://localhost:8080/",
          "height": 1000
        },
        "id": "LKIfyUJ2MIpB",
        "outputId": "7843575b-95f5-4918-c9cf-58b3d529ce40"
      },
      "outputs": [],
      "source": [
        "# Mostrar algunos ejemplos de imágenes redimensionadas\n",
        "print(\"Ejemplos de imágenes redimensionadas:\")\n",
        "show_image_examples(resized_images, combined_labels, num_examples=16, seed=1)"
      ]
    },
    {
      "cell_type": "markdown",
      "metadata": {
        "id": "Jy57qxyB2emX"
      },
      "source": [
        "# Paso 5: Extracción de las características con LBP"
      ]
    },
    {
      "cell_type": "markdown",
      "metadata": {
        "id": "1EV7wkB7uIzg"
      },
      "source": [
        "En esta sección se define la función extract_lbp_features para extraer las características LBP de las imágenes. Se utiliza la función local_binary_pattern de la biblioteca skimage.feature para calcular los patrones binarios locales de cada imagen. A partir de los patrones binarios locales, se calcula el histograma de frecuencias y se almacena como características LBP."
      ]
    },
    {
      "cell_type": "code",
      "execution_count": null,
      "metadata": {
        "id": "JF82hzeWGjEa"
      },
      "outputs": [],
      "source": [
        "# Definir la función para extraer las características LBP de las imágenes\n",
        "def extract_lbp_features(images):\n",
        "    lbp_features = []\n",
        "\n",
        "    for image in images:\n",
        "        # Aplicar el algoritmo LBP a la imagen con parámetros 8, 1 y método \"default\"\n",
        "        lbp = local_binary_pattern(image, 8, 1, method='default')\n",
        "\n",
        "        # Calcular el histograma de los valores LBP en el rango de 0 a 255\n",
        "        hist, _ = np.histogram(lbp.ravel(), bins=np.arange(0, 256))\n",
        "\n",
        "        # Agregar el histograma a la lista de características LBP\n",
        "        lbp_features.append(hist)\n",
        "\n",
        "    # Convertir la lista de características en un array numpy y retornarlo\n",
        "    return np.array(lbp_features)\n"
      ]
    },
    {
      "cell_type": "markdown",
      "metadata": {
        "id": "1GndjnzuGwtZ"
      },
      "source": [
        "Aquí se extraen las características LBP de las imágenes utilizando la función \"extract_lbp_features\". Las características se almacenan en la variable \"lbp_features\"."
      ]
    },
    {
      "cell_type": "code",
      "execution_count": null,
      "metadata": {
        "id": "Bcy7SRdj2jlG"
      },
      "outputs": [],
      "source": [
        "# Extraer las características LBP de las imágenes\n",
        "lbp_features = extract_lbp_features(resized_images)"
      ]
    },
    {
      "cell_type": "markdown",
      "metadata": {
        "id": "YGit4zhtPMI-"
      },
      "source": [
        "Aquí se muestra la forma (dimensiones) de las características LBP utilizando \"shape\"."
      ]
    },
    {
      "cell_type": "code",
      "execution_count": null,
      "metadata": {
        "colab": {
          "base_uri": "https://localhost:8080/"
        },
        "id": "6MYn4FXXPPq6",
        "outputId": "c3412fb1-003c-480e-b7c9-ae65f1e1c2e0"
      },
      "outputs": [
        {
          "name": "stdout",
          "output_type": "stream",
          "text": [
            "(300, 255)\n"
          ]
        }
      ],
      "source": [
        "# Verificar que las características se hayan extraído correctamente\n",
        "shape = lbp_features.shape\n",
        "\n",
        "# Imprimir la forma de las características extraídas\n",
        "print(shape)\n"
      ]
    },
    {
      "cell_type": "markdown",
      "metadata": {
        "id": "GkmjwbZbAO-j"
      },
      "source": [
        "Este bloque de código muestra el histograma de las características LBP para un ejemplo seleccionado (en este caso, el primer ejemplo). Se utiliza \"plt.bar\" para trazar el histograma, \"plt.xlabel\" y \"plt.ylabel\" para etiquetar los ejes, \"plt.title\" para el título del gráfico, y \"plt.show\" para mostrar el histograma."
      ]
    },
    {
      "cell_type": "code",
      "execution_count": null,
      "metadata": {
        "colab": {
          "base_uri": "https://localhost:8080/",
          "height": 472
        },
        "id": "Yf6Sh9Y8RauM",
        "outputId": "6f9f5d19-a041-4187-8f3a-3d13a320e9f0"
      },
      "outputs": [
        {
          "data": {
            "image/png": "[encoded data removed]",
            "text/plain": [
              "<Figure size 640x480 with 1 Axes>"
            ]
          },
          "metadata": {},
          "output_type": "display_data"
        }
      ],
      "source": [
        "lbp_features_example = lbp_features[0]\n",
        "\n",
        "# Mostrar un gráfico de barras del histograma de características LBP\n",
        "plt.bar(np.arange(255), lbp_features_example)\n",
        "plt.xlabel('Bin')\n",
        "plt.ylabel('Frecuencia')\n",
        "plt.title('Histograma de características LBP')\n",
        "\n",
        "plt.show()\n"
      ]
    },
    {
      "cell_type": "markdown",
      "metadata": {
        "id": "trKomlMbPKhp"
      },
      "source": [
        "# Paso 6: División del conjunto de datos"
      ]
    },
    {
      "cell_type": "markdown",
      "metadata": {
        "id": "PUoyVYesuOLj"
      },
      "source": [
        "En esta sección se divide el conjunto de datos en cuatro conjuntos distintos: entrenamiento, prueba, enrollamiento y acceso. El conjunto de entrenamiento se utiliza para entrenar el modelo, el conjunto de prueba se utiliza para evaluar el rendimiento del modelo, mientras que los subconjuntos de enrollamiento y acceso se utilizan para simular el proceso de enrollamiento y acceso en un contexto de reconocimiento biométrico.\n"
      ]
    },
    {
      "cell_type": "code",
      "execution_count": null,
      "metadata": {
        "id": "d8HfA2N0G6Dl"
      },
      "outputs": [],
      "source": [
        "# Dividir las muestras en conjuntos de entrenamiento y prueba\n",
        "X_train, X_test, y_train, y_test = train_test_split(lbp_features, combined_labels, test_size=0.3, random_state=42)\n"
      ]
    },
    {
      "cell_type": "code",
      "execution_count": null,
      "metadata": {
        "id": "auZRWgdBkJBi"
      },
      "outputs": [],
      "source": [
        "# Dividir el conjunto de prueba en enrollamiento y acceso\n",
        "X_enroll, X_access, y_enroll, y_access = train_test_split(X_test, y_test, test_size=0.2, random_state=42)\n"
      ]
    },
    {
      "cell_type": "markdown",
      "metadata": {
        "id": "NGVny0DQSd1P"
      },
      "source": [
        "# Paso 7: Entrenamiento del modelo de clasificación k-NN basado en la distancia Chi-Square"
      ]
    },
    {
      "cell_type": "markdown",
      "metadata": {
        "id": "6cv3wlEgiLMX"
      },
      "source": [
        "En esta sección, se define la función \"chi2_distance\" para calcular la distancia Chi-Square entre dos histogramas. Luego, se realiza una validación cruzada para determinar el valor óptimo de \"n_neighbors\" (número de vecinos) para el clasificador k-NN. Se muestran los resultados de la validación cruzada y se elige el valor óptimo de \"n_neighbors\". Después de seleccionar el valor óptimo de \"n_neighbors\", procedemos con el entrenamiento del modelo de clasificación k-NN utilizando el valor seleccionado. Se crea un objeto clasificador k-NN con el parámetro \"n_neighbors\" establecido en el valor óptimo. Luego, el modelo se entrena utilizando las características de entrenamiento y sus respectivas etiquetas."
      ]
    },
    {
      "cell_type": "code",
      "execution_count": null,
      "metadata": {
        "id": "rkQczkHG63yy"
      },
      "outputs": [],
      "source": [
        "# Calcular la distancia Chi-square\n",
        "def chi2_distance(histA, histB, eps=1e-10):\n",
        "    \"\"\"\n",
        "    Calcula la distancia Chi-square entre dos histogramas.\n",
        "\n",
        "    Parámetros:\n",
        "    histA (numpy array): el primer histograma.\n",
        "    histB (numpy array): el segundo histograma.\n",
        "    eps (float, opcional): un valor pequeño para evitar la división por cero.\n",
        "\n",
        "    Retorna:\n",
        "    float: la distancia Chi-square entre los dos histogramas.\n",
        "    \"\"\"\n",
        "    # Asegurarse de que los histogramas tengan la misma forma\n",
        "    assert histA.shape == histB.shape, \"Los histogramas deben tener la misma forma.\"\n",
        "\n",
        "    # Calcular la distancia Chi-square\n",
        "    distance = np.sum(np.square(histA - histB) / (histA + histB + eps))\n",
        "\n",
        "    return distance\n"
      ]
    },
    {
      "cell_type": "code",
      "execution_count": null,
      "metadata": {
        "colab": {
          "base_uri": "https://localhost:8080/"
        },
        "id": "dTu7jRNWUNW2",
        "outputId": "4bddc4bf-4f6e-4d35-8008-193af36b6e21"
      },
      "outputs": [
        {
          "name": "stdout",
          "output_type": "stream",
          "text": [
            "n_neighbors = 1: Rendimiento = 0.9380952380952381\n",
            "n_neighbors = 3: Rendimiento = 0.9238095238095239\n",
            "n_neighbors = 5: Rendimiento = 0.8904761904761904\n",
            "n_neighbors = 7: Rendimiento = 0.7380952380952381\n",
            "n_neighbors = 9: Rendimiento = 0.6619047619047619\n",
            "Mejor n_neighbors: 1\n"
          ]
        }
      ],
      "source": [
        "# Definir una lista de valores de n_neighbors para probar\n",
        "n_neighbors_values = [1, 3, 5, 7, 9]\n",
        "\n",
        "# Inicializar una lista para almacenar el rendimiento para cada valor de n_neighbors\n",
        "performance = []\n",
        "\n",
        "# Iterar sobre cada valor de n_neighbors\n",
        "for n_neighbors in n_neighbors_values:\n",
        "    # Inicializar un clasificador K-NN con el valor actual de n_neighbors\n",
        "    knn = KNeighborsClassifier(n_neighbors=n_neighbors, metric=chi2_distance)\n",
        "\n",
        "    # Realizar validación cruzada con 2 folds utilizando accuracy como métrica de evaluación\n",
        "    scores = cross_val_score(knn, X_train, y_train, cv=2, scoring='accuracy')\n",
        "\n",
        "    # Calcular el promedio de los puntajes obtenidos en la validación cruzada\n",
        "    avg_score = np.mean(scores)\n",
        "\n",
        "    # Almacenar el rendimiento obtenido\n",
        "    performance.append(avg_score)\n",
        "\n",
        "# Encontrar el índice del valor de n_neighbors con el mejor rendimiento\n",
        "best_index = np.argmax(performance)\n",
        "\n",
        "# Obtener el valor de n_neighbors correspondiente al mejor rendimiento\n",
        "best_n_neighbors = n_neighbors_values[best_index]\n",
        "\n",
        "# Imprimir el rendimiento obtenido para cada valor de n_neighbors\n",
        "for i, n_neighbors in enumerate(n_neighbors_values):\n",
        "    print(f\"n_neighbors = {n_neighbors}: Rendimiento = {performance[i]}\")\n",
        "\n",
        "# Imprimir el valor de n_neighbors con el mejor rendimiento\n",
        "print(\"Mejor n_neighbors:\", best_n_neighbors)\n"
      ]
    },
    {
      "cell_type": "markdown",
      "metadata": {
        "id": "GgXG_L7_5BiC"
      },
      "source": [
        "En este caso se ha elegido establecer n_neighbors en 3 en lugar de 1 para tener en cuenta un número mayor de vecinos cercanos al realizar las predicciones.\n",
        "Al considerar más vecinos, se puede obtener una mejor estimación de la clase objetivo basada en la mayoría de votos de los vecinos más cercanos.\n",
        "Elegir n_neighbors=3 puede proporcionar un equilibrio entre la capacidad del modelo para capturar patrones más complejos y evitar la sobreajuste."
      ]
    },
    {
      "cell_type": "code",
      "execution_count": null,
      "metadata": {
        "id": "F9c745WNSlZe"
      },
      "outputs": [],
      "source": [
        "# Crear el clasificador k-NN\n",
        "knn = KNeighborsClassifier(n_neighbors=3, metric=chi2_distance)  # Establece el número de vecinos a considerar"
      ]
    },
    {
      "cell_type": "code",
      "execution_count": null,
      "metadata": {
        "colab": {
          "base_uri": "https://localhost:8080/",
          "height": 91
        },
        "id": "2A-8YbIGSl6z",
        "outputId": "eab5c018-a43e-4d30-c491-ffa178ad44e1"
      },
      "outputs": [
        {
          "data": {
            "text/html": [
              "<style>#sk-container-id-3 {color: black;background-color: white;}#sk-container-id-3 pre{padding: 0;}#sk-container-id-3 div.sk-toggleable {background-color: white;}#sk-container-id-3 label.sk-toggleable__label {cursor: pointer;display: block;width: 100%;margin-bottom: 0;padding: 0.3em;box-sizing: border-box;text-align: center;}#sk-container-id-3 label.sk-toggleable__label-arrow:before {content: \"▸\";float: left;margin-right: 0.25em;color: #696969;}#sk-container-id-3 label.sk-toggleable__label-arrow:hover:before {color: black;}#sk-container-id-3 div.sk-estimator:hover label.sk-toggleable__label-arrow:before {color: black;}#sk-container-id-3 div.sk-toggleable__content {max-height: 0;max-width: 0;overflow: hidden;text-align: left;background-color: #f0f8ff;}#sk-container-id-3 div.sk-toggleable__content pre {margin: 0.2em;color: black;border-radius: 0.25em;background-color: #f0f8ff;}#sk-container-id-3 input.sk-toggleable__control:checked~div.sk-toggleable__content {max-height: 200px;max-width: 100%;overflow: auto;}#sk-container-id-3 input.sk-toggleable__control:checked~label.sk-toggleable__label-arrow:before {content: \"▾\";}#sk-container-id-3 div.sk-estimator input.sk-toggleable__control:checked~label.sk-toggleable__label {background-color: #d4ebff;}#sk-container-id-3 div.sk-label input.sk-toggleable__control:checked~label.sk-toggleable__label {background-color: #d4ebff;}#sk-container-id-3 input.sk-hidden--visually {border: 0;clip: rect(1px 1px 1px 1px);clip: rect(1px, 1px, 1px, 1px);height: 1px;margin: -1px;overflow: hidden;padding: 0;position: absolute;width: 1px;}#sk-container-id-3 div.sk-estimator {font-family: monospace;background-color: #f0f8ff;border: 1px dotted black;border-radius: 0.25em;box-sizing: border-box;margin-bottom: 0.5em;}#sk-container-id-3 div.sk-estimator:hover {background-color: #d4ebff;}#sk-container-id-3 div.sk-parallel-item::after {content: \"\";width: 100%;border-bottom: 1px solid gray;flex-grow: 1;}#sk-container-id-3 div.sk-label:hover label.sk-toggleable__label {background-color: #d4ebff;}#sk-container-id-3 div.sk-serial::before {content: \"\";position: absolute;border-left: 1px solid gray;box-sizing: border-box;top: 0;bottom: 0;left: 50%;z-index: 0;}#sk-container-id-3 div.sk-serial {display: flex;flex-direction: column;align-items: center;background-color: white;padding-right: 0.2em;padding-left: 0.2em;position: relative;}#sk-container-id-3 div.sk-item {position: relative;z-index: 1;}#sk-container-id-3 div.sk-parallel {display: flex;align-items: stretch;justify-content: center;background-color: white;position: relative;}#sk-container-id-3 div.sk-item::before, #sk-container-id-3 div.sk-parallel-item::before {content: \"\";position: absolute;border-left: 1px solid gray;box-sizing: border-box;top: 0;bottom: 0;left: 50%;z-index: -1;}#sk-container-id-3 div.sk-parallel-item {display: flex;flex-direction: column;z-index: 1;position: relative;background-color: white;}#sk-container-id-3 div.sk-parallel-item:first-child::after {align-self: flex-end;width: 50%;}#sk-container-id-3 div.sk-parallel-item:last-child::after {align-self: flex-start;width: 50%;}#sk-container-id-3 div.sk-parallel-item:only-child::after {width: 0;}#sk-container-id-3 div.sk-dashed-wrapped {border: 1px dashed gray;margin: 0 0.4em 0.5em 0.4em;box-sizing: border-box;padding-bottom: 0.4em;background-color: white;}#sk-container-id-3 div.sk-label label {font-family: monospace;font-weight: bold;display: inline-block;line-height: 1.2em;}#sk-container-id-3 div.sk-label-container {text-align: center;}#sk-container-id-3 div.sk-container {/* jupyter's `normalize.less` sets `[hidden] { display: none; }` but bootstrap.min.css set `[hidden] { display: none !important; }` so we also need the `!important` here to be able to override the default hidden behavior on the sphinx rendered scikit-learn.org. See: https://github.com/scikit-learn/scikit-learn/issues/21755 */display: inline-block !important;position: relative;}#sk-container-id-3 div.sk-text-repr-fallback {display: none;}</style><div id=\"sk-container-id-3\" class=\"sk-top-container\"><div class=\"sk-text-repr-fallback\"><pre>KNeighborsClassifier(metric=&lt;function chi2_distance at 0x7f34c7e4a7a0&gt;,\n",
              "                     n_neighbors=3)</pre><b>In a Jupyter environment, please rerun this cell to show the HTML representation or trust the notebook. <br />On GitHub, the HTML representation is unable to render, please try loading this page with nbviewer.org.</b></div><div class=\"sk-container\" hidden><div class=\"sk-item\"><div class=\"sk-estimator sk-toggleable\"><input class=\"sk-toggleable__control sk-hidden--visually\" id=\"sk-estimator-id-3\" type=\"checkbox\" checked><label for=\"sk-estimator-id-3\" class=\"sk-toggleable__label sk-toggleable__label-arrow\">KNeighborsClassifier</label><div class=\"sk-toggleable__content\"><pre>KNeighborsClassifier(metric=&lt;function chi2_distance at 0x7f34c7e4a7a0&gt;,\n",
              "                     n_neighbors=3)</pre></div></div></div></div></div>"
            ],
            "text/plain": [
              "KNeighborsClassifier(metric=<function chi2_distance at 0x7f34c7e4a7a0>,\n",
              "                     n_neighbors=3)"
            ]
          },
          "execution_count": 95,
          "metadata": {},
          "output_type": "execute_result"
        }
      ],
      "source": [
        "# Entrenar el clasificador\n",
        "knn.fit(X_train, y_train)  # X_train son las características de entrenamiento, y_train son las etiquetas de entrenamiento\n"
      ]
    },
    {
      "cell_type": "markdown",
      "metadata": {
        "id": "aQU0qRRNjJHr"
      },
      "source": [
        "# Paso 8: Predicciones en conjunto de prueba\n"
      ]
    },
    {
      "cell_type": "markdown",
      "metadata": {
        "id": "h5gdale0HGP2"
      },
      "source": [
        "En esta sección, se realizan las predicciones del modelo en las características de prueba utilizando la función \"predict\". El objeto \"knn\" representa el clasificador k-NN creado previamente. Se utiliza la función \"predict\" para obtener las predicciones de las etiquetas del conjunto de prueba basadas en las características de entrada \"X_test\"."
      ]
    },
    {
      "cell_type": "code",
      "execution_count": null,
      "metadata": {
        "id": "KjaThSBcSpSD"
      },
      "outputs": [],
      "source": [
        "# Predecir las etiquetas para las muestras de test\n",
        "y_pred = knn.predict(X_test)  # X_test son las características de las muestras de test\n"
      ]
    },
    {
      "cell_type": "markdown",
      "metadata": {
        "id": "wa-VswVsxbCi"
      },
      "source": [
        "# Paso 9: Evaluación del rendimiento del modelo k-NN"
      ]
    },
    {
      "cell_type": "markdown",
      "metadata": {
        "id": "jFNjXzYdeA0e"
      },
      "source": [
        "Aquí se calcula la precisión del modelo utilizando la función \"accuracy_score\" de \"scikit-learn\". Las etiquetas de prueba y las predicciones se redimensionan a una sola columna para asegurar que tengan la misma forma antes de calcular la precisión. El resultado se muestra como la precisión en la consola.\n"
      ]
    },
    {
      "cell_type": "code",
      "execution_count": null,
      "metadata": {
        "colab": {
          "base_uri": "https://localhost:8080/"
        },
        "id": "5X70mEuDxyGJ",
        "outputId": "30eca461-9dc8-439d-a1a7-0b8363d34662"
      },
      "outputs": [
        {
          "name": "stdout",
          "output_type": "stream",
          "text": [
            "Precisión: 0.9222222222222223\n"
          ]
        }
      ],
      "source": [
        "# Calcular la precisión\n",
        "accuracy = accuracy_score(y_test, y_pred)\n",
        "\n",
        "# Imprimir la precisión\n",
        "print(\"Precisión:\", accuracy)\n"
      ]
    },
    {
      "cell_type": "markdown",
      "metadata": {
        "id": "qWxml1X45ySu"
      },
      "source": [
        "Además, se calcula la matriz de confusión utilizando la función \"confusion_matrix\" de \"scikit-learn\". La matriz de confusión muestra el número de verdaderos positivos, falsos positivos, verdaderos negativos y falsos negativos para cada clase en la consola.\n",
        "\n"
      ]
    },
    {
      "cell_type": "code",
      "execution_count": null,
      "metadata": {
        "colab": {
          "base_uri": "https://localhost:8080/",
          "height": 568
        },
        "id": "luKsISegx50c",
        "outputId": "4d1be94a-a443-4120-bd6f-9286ff89955c"
      },
      "outputs": [
        {
          "data": {
            "image/png": "[encoded data removed]",
            "text/plain": [
              "<Figure size 800x600 with 2 Axes>"
            ]
          },
          "metadata": {},
          "output_type": "display_data"
        }
      ],
      "source": [
        "# Calcular la matriz de confusión\n",
        "confusion_mat = confusion_matrix(y_test, y_pred)\n",
        "\n",
        "# Visualizar la matriz de confusión como un mapa de calor\n",
        "plt.figure(figsize=(8, 6))\n",
        "sns.heatmap(confusion_mat, annot=True, fmt='d', cmap='Blues')\n",
        "plt.xlabel('Predicted Label')\n",
        "plt.ylabel('True Label')\n",
        "plt.title('Confusion Matrix')\n",
        "plt.show()"
      ]
    },
    {
      "cell_type": "markdown",
      "metadata": {
        "id": "xU_ZlPJ64bn9"
      },
      "source": [
        "A continuación, se genera el informe de clasificación utilizando la función \"classification_report\" de \"scikit-learn\". El informe de clasificación muestra la precisión, la recuperación, la puntuación F1 y el soporte para cada clase en la consola. Estas métricas proporcionan una evaluación más detallada del rendimiento del modelo."
      ]
    },
    {
      "cell_type": "code",
      "execution_count": null,
      "metadata": {
        "colab": {
          "base_uri": "https://localhost:8080/"
        },
        "id": "s2kkxAL9_7It",
        "outputId": "5497694c-0893-4151-ec3a-9b4569a794ac"
      },
      "outputs": [
        {
          "name": "stdout",
          "output_type": "stream",
          "text": [
            "Informe de clasificación:\n",
            "              precision    recall  f1-score   support\n",
            "\n",
            "           1       1.00      1.00      1.00         4\n",
            "          10       1.00      1.00      1.00         1\n",
            "          11       1.00      1.00      1.00         3\n",
            "          12       1.00      1.00      1.00         3\n",
            "          13       1.00      1.00      1.00         3\n",
            "          14       1.00      1.00      1.00         3\n",
            "          15       1.00      0.75      0.86         8\n",
            "          16       1.00      1.00      1.00         3\n",
            "          17       1.00      0.29      0.44         7\n",
            "          18       1.00      1.00      1.00         2\n",
            "          19       1.00      1.00      1.00         1\n",
            "           2       1.00      1.00      1.00         3\n",
            "          20       1.00      1.00      1.00         2\n",
            "          21       0.67      1.00      0.80         4\n",
            "          22       1.00      1.00      1.00         1\n",
            "          23       1.00      1.00      1.00         1\n",
            "          24       1.00      1.00      1.00         3\n",
            "          25       1.00      1.00      1.00         5\n",
            "          26       1.00      1.00      1.00         5\n",
            "          27       1.00      1.00      1.00         3\n",
            "          29       1.00      1.00      1.00         2\n",
            "           3       1.00      1.00      1.00         3\n",
            "          30       0.29      1.00      0.44         2\n",
            "           4       1.00      1.00      1.00         2\n",
            "           5       1.00      1.00      1.00         4\n",
            "           6       1.00      1.00      1.00         3\n",
            "           7       1.00      1.00      1.00         4\n",
            "           8       1.00      1.00      1.00         3\n",
            "           9       1.00      1.00      1.00         2\n",
            "\n",
            "    accuracy                           0.92        90\n",
            "   macro avg       0.96      0.97      0.95        90\n",
            "weighted avg       0.97      0.92      0.92        90\n",
            "\n"
          ]
        }
      ],
      "source": [
        "# Obtener el informe de clasificación\n",
        "class_report = classification_report(y_test, y_pred, zero_division=1)\n",
        "\n",
        "# Imprimir el informe de clasificación\n",
        "print(\"Informe de clasificación:\")\n",
        "print(class_report)\n"
      ]
    },
    {
      "cell_type": "markdown",
      "metadata": {
        "id": "6FyXbnjKw404"
      },
      "source": [
        "# Paso 10: Análisis comparativo entre Chi-Square y características LBP vs Distancia Euclidiana y características PCA"
      ]
    },
    {
      "cell_type": "markdown",
      "metadata": {
        "id": "DOS18-FkxRT3"
      },
      "source": [
        "En esta sección se calcula la Tasa de Error Igual (EER) y el umbral de EER utilizando la distancia de Chi-Square. Se calculan las distancias entre las diferentes combinaciones de muestras de acceso y registro. A continuación, se calculan las tasas de Falsa Rechazo (FRR) y Falsa Aceptación (FAR) para cada valor de umbral. Por último, se representa gráficamente el gráfico de las tasas de FRR y FAR en función del umbral, resaltando el punto correspondiente al EER.\n",
        "\n",
        "Al final del paso, se realiza una comparación entre el enfoque LBP + Chi-distance y el enfoque PCA + Distancia Euclidiana, tal como se describe en el paper de referencia."
      ]
    },
    {
      "cell_type": "markdown",
      "metadata": {
        "id": "3ZMQUHvjMIzL"
      },
      "source": [
        "Cálculo de la Tasa de Error Igual (EER) y el Umbral de EER utilizando la distancia de Chi-Square"
      ]
    },
    {
      "cell_type": "code",
      "execution_count": null,
      "metadata": {
        "id": "M_SZHScVDwHY"
      },
      "outputs": [],
      "source": [
        "# Función para calcular el Error de Igualdad (ERR) y el Umbral de ERR\n",
        "\n",
        "def calculate_err(X_access, y_access, X_enroll, y_enroll):\n",
        "    # Calcular las distancias entre las diferentes combinaciones de muestras de acceso y de enrollamiento\n",
        "    distances = []\n",
        "\n",
        "    for i in range(len(X_access)):\n",
        "\n",
        "        access_sample = X_access[i]  # Muestra de acceso actual\n",
        "        access_label = y_access[i]  # Etiqueta de la muestra de acceso actual\n",
        "        access_distances = []  # Lista para almacenar las distancias entre la muestra de acceso y las muestras de enrollamiento\n",
        "\n",
        "        for j in range(len(X_enroll)):\n",
        "\n",
        "            enroll_sample = X_enroll[j]  # Muestra de enrollamiento actual\n",
        "            enroll_label = y_enroll[j]  # Etiqueta de la muestra de enrollamiento actual\n",
        "\n",
        "            # Calcular la distancia Chi-Square entre las muestras de enrollamiento y acceso\n",
        "            distance = chi2_distance(enroll_sample, access_sample)\n",
        "            access_distances.append((distance, enroll_label == access_label))\n",
        "\n",
        "        distances.append(access_distances)\n",
        "\n",
        "    # Convertir las distancias en un array de numpy\n",
        "    distances = np.array(distances)\n",
        "\n",
        "    # Definir los intervalos de umbral\n",
        "    thresholds = np.arange(0, np.max(distances), 0.1)\n",
        "\n",
        "    # Calcular FRR y FAR para cada umbral\n",
        "    frrs = []\n",
        "    fars = []\n",
        "    for threshold in thresholds:\n",
        "        # Calcular la tasa de falsa rechazo (FRR)\n",
        "        frr = np.mean(distances[:, :, 0][distances[:, :, 1] == True] > threshold)\n",
        "\n",
        "        # Calcular la tasa de falsa aceptación (FAR)\n",
        "        far = np.mean(distances[:, :, 0][distances[:, :, 1] == False] <= threshold)\n",
        "\n",
        "        # Agregar los valores de FRR y FAR a las listas correspondientes\n",
        "        frrs.append(frr)\n",
        "        fars.append(far)\n",
        "\n",
        "    # Encontrar el umbral del EER\n",
        "    frrs_np = np.array(frrs)\n",
        "    fars_np = np.array(fars)\n",
        "    eer_threshold = thresholds[np.argmin(np.abs(frrs_np - fars_np))]\n",
        "\n",
        "    # Calcular el ERR utilizando el umbral del EER\n",
        "    eer_index = np.abs(frrs_np - fars_np).argmin()\n",
        "    err = (frrs_np[eer_index] + fars_np[eer_index]) / 2\n",
        "\n",
        "    # Devolver el ERR y el umbral del EER\n",
        "    return err, eer_threshold, distances\n"
      ]
    },
    {
      "cell_type": "markdown",
      "metadata": {
        "id": "oaqMMZ-iM1TI"
      },
      "source": [
        "Calculo del ERR y del umbral del EER"
      ]
    },
    {
      "cell_type": "code",
      "execution_count": null,
      "metadata": {
        "colab": {
          "base_uri": "https://localhost:8080/"
        },
        "id": "qoEPZrujDxwK",
        "outputId": "7ad97ad0-04ee-4c1f-aad0-ce1afcf01faa"
      },
      "outputs": [
        {
          "name": "stdout",
          "output_type": "stream",
          "text": [
            "Equal Error Rate (EER): 0.022545744989834447\n",
            "EER Threshold: 270.5\n"
          ]
        }
      ],
      "source": [
        "err, eer_threshold, distances = calculate_err(X_access, y_access, X_enroll, y_enroll)\n",
        "print(\"Equal Error Rate (EER):\", err)  # Imprimir la tasa de igual error (ERR)\n",
        "print(\"EER Threshold:\", eer_threshold)  # Imprimir el umbral del EER"
      ]
    },
    {
      "cell_type": "markdown",
      "metadata": {
        "id": "HwgAUo38M5JK"
      },
      "source": [
        "Representación gráfica de FAR vs. FRR"
      ]
    },
    {
      "cell_type": "code",
      "execution_count": null,
      "metadata": {
        "id": "T4ynDx2q3wL8"
      },
      "outputs": [],
      "source": [
        "thresholds = np.arange(0, np.max(distances), 0.1) # Definición de los umbrales\n",
        "\n",
        "# Listas para almacenar los valores de FRR y FAR\n",
        "frrs = []\n",
        "fars = []\n",
        "\n",
        "# Cálculo de FRR y FAR para cada umbral\n",
        "for threshold in thresholds:\n",
        "    # Cálculo de la tasa de FRR (Tasa de Rechazo Falso)\n",
        "    frr = np.mean(distances[:, :, 0][distances[:, :, 1] == True] > threshold)\n",
        "    # Cálculo de la tasa de FAR (Tasa de Aceptación Falso)\n",
        "    far = np.mean(distances[:, :, 0][distances[:, :, 1] == False] <= threshold)\n",
        "\n",
        "    # Agregar los valores de FRR y FAR a las listas correspondientes\n",
        "    frrs.append(frr)\n",
        "    fars.append(far)\n",
        "\n"
      ]
    },
    {
      "cell_type": "markdown",
      "metadata": {
        "id": "i3Nl6qYUM9e8"
      },
      "source": [
        "Mejor resultado para la coincidencia de la \"Distancia de Chi-Cuadrado\""
      ]
    },
    {
      "cell_type": "code",
      "execution_count": null,
      "metadata": {
        "colab": {
          "base_uri": "https://localhost:8080/",
          "height": 539
        },
        "id": "mGS68czq70Tz",
        "outputId": "8463cd11-c047-4610-9b65-f6e42457171a"
      },
      "outputs": [
        {
          "name": "stdout",
          "output_type": "stream",
          "text": [
            "Mejor resultado para la coincidencia de la \"Distancia de Chi-Cuadrado\"\n",
            "\n",
            "\n"
          ]
        },
        {
          "data": {
            "image/png": "[encoded data removed]",
            "text/plain": [
              "<Figure size 640x480 with 1 Axes>"
            ]
          },
          "metadata": {},
          "output_type": "display_data"
        },
        {
          "name": "stdout",
          "output_type": "stream",
          "text": [
            "Equal Error Rate (EER) en porcentaje: 2.25%\n",
            "Umbral del EER: 270.5\n"
          ]
        }
      ],
      "source": [
        "print(\"Mejor resultado para la coincidencia de la \\\"Distancia de Chi-Cuadrado\\\"\\n\\n\")\n",
        "\n",
        "plt.plot(thresholds, frrs, label=\"FRR\")  # Tasa de Falsos Rechazos\n",
        "plt.plot(thresholds, fars, label=\"FAR\")  # Tasa de Falsos Aceptados\n",
        "plt.xlabel(\"Umbral\")  # Umbral\n",
        "plt.ylabel(\"Tasa de Error\")  # Tasa de Error\n",
        "plt.legend()  # Leyenda\n",
        "\n",
        "# Resaltar el punto EER en el gráfico\n",
        "plt.scatter(eer_threshold, err, c=\"r\", label=\"EER\")  # EER\n",
        "\n",
        "# Etiquetas de las coordenadas EER en la esquina superior derecha del punto EER\n",
        "plt.annotate(f\"EER: ({eer_threshold:.2f}, {err:.4f})\", xy=(eer_threshold, err), xytext=(10, 15),\n",
        "             textcoords='offset points', ha='left', va='top', color='r')\n",
        "plt.show()\n",
        "\n",
        "print(\"Equal Error Rate (EER) en porcentaje: {:.2%}\".format(err))  # Tasa de error igual (EER) en porcentaje\n",
        "print(\"Umbral del EER:\", eer_threshold)  # Umbral del EER"
      ]
    },
    {
      "cell_type": "markdown",
      "metadata": {
        "id": "9hkEXVtpDzaN"
      },
      "source": [
        "**Comparación LBP + Chi-distance vs  PCA + Distancia Euclidiana (en el paper de referencia).**"
      ]
    },
    {
      "cell_type": "markdown",
      "metadata": {
        "id": "PPK7IaaJGAiz"
      },
      "source": [
        "Al analizar detalladamente los dos casos, podemos extraer las siguientes reflexiones:\n",
        "\n",
        "En primer lugar, en ambos casos, tanto en la distancia euclidiana como en la chi-distance, se aplicó un procedimiento de volteo horizontal exclusivamente al lado izquierdo de cada usuario. Esta técnica permitió mejorar la capacidad de discriminación entre las orejas izquierda y derecha, lo cual condujo a una mejor correspondencia entre las características extraídas. Por lo tanto, en ambos casos se realizó la rotación de las imágenes de las orecchias izquierdas.\n",
        "\n",
        "Además, en el caso de la distancia euclidiana, se empleó el Análisis de Componentes Principales (PCA) para la extracción de características, mientras que en el caso de la chi-distance se utilizaron los Patrones Binarios Locales (LBP). Estas dos técnicas de extracción de características difieren significativamente en su enfoque y pueden proporcionar información distinta sobre los datos. El uso de PCA permitió reducir la dimensionalidad de los datos y resaltar las características más relevantes, mientras que LBP capturó patrones locales y texturas presentes en las imágenes. Estas diferencias en las técnicas de extracción de características podrían haber influido en los resultados obtenidos en términos de la Equal Error Rate (EER).\n",
        "\n",
        "Por consiguiente, considerando estos factores, podemos concluir que los resultados superiores obtenidos con la distancia euclidiana se deben a una combinación de los siguientes aspectos: el procedimiento de volteo horizontal que mejoró la discriminación entre las orejas, el uso de PCA para destacar las características más relevantes y las propiedades discriminantes inherentes a las dos distancias utilizadas (euclidiana y chi-distance). Estos factores en conjunto contribuyeron al mejor rendimiento del enfoque basado en la distancia euclidiana en comparación con la chi-distance.\n",
        "\n",
        "Es importante tener en cuenta que estos resultados deben interpretarse considerando también otros factores, como la resolución de las imágenes y el tamaño de la base de datos utilizada en cada caso. Sin embargo, los aspectos mencionados anteriormente ofrecen una perspectiva sólida para comprender las diferencias observadas entre los dos enfoques y las razones detrás del mejor rendimiento de la distancia euclidiana."
      ]
    }
  ],
  "metadata": {
    "colab": {
      "provenance": [],
      "toc_visible": true
    },
    "kernelspec": {
      "display_name": "Python 3",
      "name": "python3"
    },
    "language_info": {
      "name": "python"
    }
  },
  "nbformat": 4,
  "nbformat_minor": 0
}
